{
 "cells": [
  {
   "cell_type": "markdown",
   "id": "cae394d9",
   "metadata": {},
   "source": [
    "# XDF2BIDS\n"
   ]
  },
  {
   "cell_type": "code",
   "execution_count": 10,
   "id": "81eb0469",
   "metadata": {},
   "outputs": [],
   "source": [
    "import os\n",
    "import os.path as op\n",
    "import shutil\n",
    "import mne\n",
    "import pyxdf\n",
    "import pandas as pd\n",
    "import json\n",
    "import matplotlib.pyplot as plt\n",
    "import numpy as np\n",
    "\n",
    "from mne_bids import BIDSPath, print_dir_tree, write_raw_bids\n",
    "from mne_bids.stats import count_events"
   ]
  },
  {
   "cell_type": "code",
   "execution_count": 11,
   "id": "23ed15c8",
   "metadata": {},
   "outputs": [
    {
     "name": "stdout",
     "output_type": "stream",
     "text": [
      "Data directory set to: c:\\MoBI\\sourcedata\n",
      "Project root set to: c:\\MoBI\n",
      "Config XDF file path set to: c:\\MoBI\\sourcedata\\pilot\\sub-P01\\brain\\sub-P01_task-natural-walk_eeg.xdf\n"
     ]
    }
   ],
   "source": [
    "#set directories\n",
    "notebook_dir = os.path.dirname(os.path.abspath('__file__')) if '__file__' in globals() else os.getcwd()\n",
    "project_root = os.path.dirname(notebook_dir)  # Go up one level from notebook location\n",
    "data_dir = op.join(project_root, 'sourcedata')\n",
    "config_xdf_path = op.join(data_dir, 'pilot', 'sub-P01', 'brain', 'sub-P01_task-natural-walk_eeg.xdf')\n",
    "\n",
    "# Check if directory exists, create if needed\n",
    "if not op.exists(data_dir):\n",
    "    print(f\"Warning: {data_dir} does not exist. You may need to create it or adjust the path.\")\n",
    "    # Fallback to current directory + sourcedata\n",
    "    data_dir = op.join(os.getcwd(), 'sourcedata')\n",
    "    print(f\"Using fallback path: {data_dir}\")\n",
    "\n",
    "print(f\"Data directory set to: {data_dir}\")\n",
    "print(f\"Project root set to: {project_root}\")\n",
    "print(f\"Config XDF file path set to: {config_xdf_path}\")"
   ]
  },
  {
   "cell_type": "code",
   "execution_count": 12,
   "id": "aa517e9f",
   "metadata": {},
   "outputs": [
    {
     "name": "stdout",
     "output_type": "stream",
     "text": [
      "Available streams in XDF file:\n",
      "  Stream 0: Name = 'Android_Impedances - PROX_054', Type = 'Impedance values'\n",
      "  Stream 1: Name = 'Android_EEG - PROX_054', Type = 'EEG'\n",
      "  Stream 2: Name = 'Presentation', Type = 'Markers'\n"
     ]
    }
   ],
   "source": [
    "# Load XDF file\n",
    "streams, header = pyxdf.load_xdf(config_xdf_path)\n",
    "\n",
    "# Identify EEG stream, Impedance stream, and Markers stream\n",
    "eeg_stream = None\n",
    "impedance_stream = None\n",
    "markers_stream = None\n",
    "\n",
    "# Examine each stream to identify its type so we dont have to hardcode stream indices\n",
    "print(\"Available streams in XDF file:\")\n",
    "for idx, s in enumerate(streams):\n",
    "    s_name = s['info']['name'][0] if 'name' in s['info'] else 'Unknown'\n",
    "    s_type = s['info']['type'][0] if 'type' in s['info'] else 'Unknown'\n",
    "    print(f\"  Stream {idx}: Name = '{s_name}', Type = '{s_type}'\")"
   ]
  },
  {
   "cell_type": "code",
   "execution_count": 13,
   "id": "0b0a2d27",
   "metadata": {},
   "outputs": [
    {
     "name": "stdout",
     "output_type": "stream",
     "text": [
      "Found Impedance stream: Android_Impedances - PROX_054\n",
      "Found EEG stream: Android_EEG - PROX_054\n",
      "Found Markers stream: Presentation\n",
      "\n",
      "--- EEG Stream Configuration ---\n",
      "Sampling Frequency: 250.0 Hz\n",
      "Number of channels: 64\n",
      "Channel names: ['Fp1', 'Fp2', 'F3', 'F4', 'C3', 'C4', 'P3', 'P4', 'O1', 'O2', 'F7', 'F8', 'T7', 'T8', 'P7', 'P8', 'AFz', 'Fz', 'Cz', 'Pz', 'FC1', 'FC2', 'CP1', 'CP2', 'FC5', 'FC6', 'CP5', 'CP6', 'FT9', 'FT10', 'TP7', 'TP8', 'F1', 'F2', 'C1', 'C2', 'P1', 'P2', 'AF3', 'AF4', 'FC3', 'FC4', 'CP3', 'CP4', 'PO3', 'PO4', 'F5', 'F6', 'C5', 'C6', 'P5', 'P6', 'AF7', 'AF8', 'FT7', 'FT8', 'TP9', 'TP10', 'PO7', 'PO8', 'PO9', 'PO10', 'CPz', 'POz']\n"
     ]
    }
   ],
   "source": [
    "for stream in streams:\n",
    "    stream_type = stream['info']['type'][0].lower()\n",
    "    stream_name = stream['info']['name'][0].lower()\n",
    "\n",
    "    if 'eeg' in stream_type or 'eeg' in stream_name:\n",
    "        eeg_stream = stream\n",
    "        print(f\"Found EEG stream: {stream['info']['name'][0]}\")\n",
    "    elif 'impedance' in stream_type or 'impedance' in stream_name:\n",
    "        impedance_stream = stream\n",
    "        print(f\"Found Impedance stream: {stream['info']['name'][0]}\")\n",
    "    elif 'marker' in stream_type or 'marker' in stream_name:\n",
    "        markers_stream = stream\n",
    "        print(f\"Found Markers stream: {stream['info']['name'][0]}\")\n",
    "\n",
    "# Scrape information from the EEG stream to configure it\n",
    "if eeg_stream:\n",
    "    sfreq = float(eeg_stream['info']['nominal_srate'][0])\n",
    "    \n",
    "    # Extract channel labels \n",
    "    ch_labels_info = eeg_stream['info']['desc'][0]['channels'][0]['channel']\n",
    "    ch_names = [ch['label'][0] for ch in ch_labels_info]\n",
    "    n_chans = len(ch_names)\n",
    "\n",
    "    print(f\"\\n--- EEG Stream Configuration ---\")\n",
    "    print(f\"Sampling Frequency: {sfreq} Hz\")\n",
    "    print(f\"Number of channels: {n_chans}\")\n",
    "    print(f\"Channel names: {ch_names}\")\n",
    "else:\n",
    "    print(\"\\nEEG stream not found.\")\n",
    "\n",
    "if not impedance_stream:\n",
    "    print(\"Impedance stream not found.\")\n",
    "if not markers_stream:\n",
    "    print(\"Markers stream not found.\")"
   ]
  },
  {
   "cell_type": "code",
   "execution_count": 14,
   "id": "01644278",
   "metadata": {},
   "outputs": [
    {
     "name": "stdout",
     "output_type": "stream",
     "text": [
      "Creating RawArray with float64 data, n_channels=64, n_times=88799\n",
      "    Range : 0 ... 88798 =      0.000 ...   355.192 secs\n",
      "    Range : 0 ... 88798 =      0.000 ...   355.192 secs\n",
      "Ready.\n",
      "Ready.\n",
      "\n",
      "Montage set to PROX-64-montage.\n",
      "\n",
      "--- Processing Markers Stream ---\n",
      "Added 318 annotations to raw object:\n",
      "Unique markers: {'<pevent><etype>Picture</etype><ecode>1</ecode><unc>0.001336</unc></pevent>', '<pevent><etype>Picture</etype><ecode>1</ecode><unc>0.000251</unc></pevent>', '<pevent><etype>Picture</etype><ecode>2</ecode><unc>0.000197</unc></pevent>', '<pevent><etype>Picture</etype><ecode>1</ecode><unc>0.000147</unc></pevent>', '<pevent><etype>Picture</etype><ecode>2</ecode><unc>0.000193</unc></pevent>', '<pevent><etype>Picture</etype><ecode>2</ecode><unc>0.00022</unc></pevent>', '<pevent><etype>Picture</etype><ecode>1</ecode><unc>0.000208</unc></pevent>', '<pevent><etype>Picture</etype><ecode>2</ecode><unc>0.000254</unc></pevent>', '<pevent><etype>Picture</etype><ecode>2</ecode><unc>0.000186</unc></pevent>', '<pevent><etype>Picture</etype><ecode>1</ecode><unc>0.000212</unc></pevent>', '<pevent><etype>Picture</etype><ecode>1</ecode><unc>0.000171</unc></pevent>', '<pevent><etype>Picture</etype><ecode>2</ecode><unc>0.000149</unc></pevent>', '<pevent><etype>Picture</etype><ecode>1</ecode><unc>0.000175</unc></pevent>', '<pevent><etype>Picture</etype><ecode>1</ecode><unc>0.000169</unc></pevent>', '<pevent><etype>Picture</etype><ecode>1</ecode><unc>0.000157</unc></pevent>', '<pevent><etype>Picture</etype><ecode>2</ecode><unc>0.000207</unc></pevent>', '<pevent><etype>Picture</etype><ecode>2</ecode><unc>0.000166</unc></pevent>', '<pevent><etype>Picture</etype><ecode>1</ecode><unc>0.000179</unc></pevent>', '<pevent><etype>Picture</etype><ecode>2</ecode><unc>0.000232</unc></pevent>', '<pevent><etype>Picture</etype><ecode>1</ecode><unc>0.000146</unc></pevent>', '<pevent><etype>Picture</etype><ecode>1</ecode><unc>0.0002</unc></pevent>', '<pevent><etype>Picture</etype><ecode>1</ecode><unc>0.000183</unc></pevent>', '<pevent><etype>Picture</etype><ecode>2</ecode><unc>0.013798</unc></pevent>', '<pevent><etype>Picture</etype><ecode>1</ecode><unc>0.000198</unc></pevent>', '<pevent><etype>Picture</etype><ecode>1</ecode><unc>0.000238</unc></pevent>', '<pevent><etype>Picture</etype><ecode>1</ecode><unc>0.000177</unc></pevent>', '<pevent><etype>Picture</etype><ecode>2</ecode><unc>0.000146</unc></pevent>', '<pevent><etype>Picture</etype><ecode>1</ecode><unc>0.000172</unc></pevent>', '<pevent><etype>Picture</etype><ecode>2</ecode><unc>0.000159</unc></pevent>', '<pevent><etype>Picture</etype><ecode>2</ecode><unc>0.000252</unc></pevent>', '<pevent><etype>Picture</etype><ecode>2</ecode><unc>0.000174</unc></pevent>', '<pevent><etype>Picture</etype><ecode>2</ecode><unc>0.000145</unc></pevent>', '<pevent><etype>Picture</etype><ecode>1</ecode><unc>0.000151</unc></pevent>', '<pevent><etype>Picture</etype><ecode>2</ecode><unc>0.000152</unc></pevent>', '<pevent><etype>Picture</etype><ecode>1</ecode><unc>0.000189</unc></pevent>', '<pevent><etype>Picture</etype><ecode>2</ecode><unc>0.000141</unc></pevent>', '<pevent><etype>Picture</etype><ecode>1</ecode><unc>0.000194</unc></pevent>', '<pevent><etype>Picture</etype><ecode>1</ecode><unc>0.000156</unc></pevent>', '<pevent><etype>Picture</etype><ecode>1</ecode><unc>0.000237</unc></pevent>', '<pevent><etype>Picture</etype><ecode>2</ecode><unc>0.000194</unc></pevent>', '<pevent><etype>Picture</etype><ecode>1</ecode><unc>0.000243</unc></pevent>', '<pevent><etype>Picture</etype><ecode>2</ecode><unc>0.000153</unc></pevent>', '<pevent><etype>Picture</etype><ecode>1</ecode><unc>0.000153</unc></pevent>', '<pevent><etype>Picture</etype><ecode>2</ecode><unc>0.000178</unc></pevent>', '<pevent><etype>Picture</etype><ecode>1</ecode><unc>0.00015</unc></pevent>', '<pevent><etype>Picture</etype><ecode>2</ecode><unc>0.000228</unc></pevent>', '<pevent><etype>Picture</etype><ecode>2</ecode><unc>0.000147</unc></pevent>', '<pevent><etype>Picture</etype><ecode>2</ecode><unc>0.009384</unc></pevent>', '<pevent><etype>Picture</etype><ecode>2</ecode><unc>0.000181</unc></pevent>', '<pevent><etype>Picture</etype><ecode>2</ecode><unc>0.000167</unc></pevent>', '<pevent><etype>Picture</etype><ecode>2</ecode><unc>0.018401</unc></pevent>', '<pevent><etype>Picture</etype><ecode>2</ecode><unc>0.000162</unc></pevent>', '<pevent><etype>Picture</etype><ecode>2</ecode><unc>0.000189</unc></pevent>', '<pevent><etype>Picture</etype><ecode>1</ecode><unc>0.000428</unc></pevent>', '<pevent><etype>Picture</etype><ecode>2</ecode><unc>0.00021</unc></pevent>', '<pevent><etype>Picture</etype><ecode>2</ecode><unc>0.000151</unc></pevent>', '<pevent><etype>Picture</etype><ecode>2</ecode><unc>0.000144</unc></pevent>', '<pevent><etype>Picture</etype><ecode>2</ecode><unc>0.000148</unc></pevent>', '<pevent><etype>Picture</etype><ecode>2</ecode><unc>0.000242</unc></pevent>', '<pevent><etype>Picture</etype><ecode>2</ecode><unc>0.000208</unc></pevent>', '<pevent><etype>Picture</etype><ecode>1</ecode><unc>0.000154</unc></pevent>', '<pevent><etype>Picture</etype><ecode>1</ecode><unc>0.000209</unc></pevent>', '<pevent><etype>Picture</etype><ecode>2</ecode><unc>0.000206</unc></pevent>', '<pevent><etype>Picture</etype><ecode>1</ecode><unc>0.000197</unc></pevent>', '<pevent><etype>Picture</etype><ecode>1</ecode><unc>0.000252</unc></pevent>', '<pevent><etype>Picture</etype><ecode>1</ecode><unc>0.000288</unc></pevent>', '<pevent><etype>Picture</etype><ecode>2</ecode><unc>0.000192</unc></pevent>', '<pevent><etype>Picture</etype><ecode>1</ecode><unc>0.000211</unc></pevent>', '<pevent><etype>Picture</etype><ecode>2</ecode><unc>0.00017</unc></pevent>', '<pevent><etype>Picture</etype><ecode>2</ecode><unc>0.000168</unc></pevent>', '<pevent><etype>Picture</etype><ecode>2</ecode><unc>0.000247</unc></pevent>', '<pevent><etype>Picture</etype><ecode>2</ecode><unc>0.000177</unc></pevent>', '<pevent><etype>Picture</etype><ecode>1</ecode><unc>0.000164</unc></pevent>', '<pevent><etype>Picture</etype><ecode>2</ecode><unc>0.000219</unc></pevent>', '<pevent><etype>Picture</etype><ecode>2</ecode><unc>0.000209</unc></pevent>', '<pevent><etype>Picture</etype><ecode>2</ecode><unc>0.000157</unc></pevent>', '<pevent><etype>Picture</etype><ecode>2</ecode><unc>0.0002</unc></pevent>', '<pevent><etype>Picture</etype><ecode>2</ecode><unc>0.000169</unc></pevent>', '<pevent><etype>Picture</etype><ecode>1</ecode><unc>0.00019</unc></pevent>', '<pevent><etype>Picture</etype><ecode>1</ecode><unc>0.000167</unc></pevent>', '<pevent><etype>Picture</etype><ecode>2</ecode><unc>0.000202</unc></pevent>', '<pevent><etype>Picture</etype><ecode>2</ecode><unc>0.00015</unc></pevent>', '<pevent><etype>Picture</etype><ecode>1</ecode><unc>0.000899</unc></pevent>', '<pevent><etype>Picture</etype><ecode>2</ecode><unc>0.000326</unc></pevent>', '<pevent><etype>Picture</etype><ecode>2</ecode><unc>0.00019</unc></pevent>', '<pevent><etype>Picture</etype><ecode>2</ecode><unc>0.000172</unc></pevent>', '<pevent><etype>Picture</etype><ecode>1</ecode><unc>0.000139</unc></pevent>', '<pevent><etype>Picture</etype><ecode>1</ecode><unc>0.00017</unc></pevent>', '<pevent><etype>Picture</etype><ecode>1</ecode><unc>0.000176</unc></pevent>', '<pevent><etype>Picture</etype><ecode>1</ecode><unc>0.000158</unc></pevent>', '<pevent><etype>Picture</etype><ecode>1</ecode><unc>0.000152</unc></pevent>', '<pevent><etype>Picture</etype><ecode>1</ecode><unc>0.000202</unc></pevent>', '<pevent><etype>Picture</etype><ecode>2</ecode><unc>0.000171</unc></pevent>', '<pevent><etype>Picture</etype><ecode>2</ecode><unc>0.000165</unc></pevent>', '<pevent><etype>Picture</etype><ecode>2</ecode><unc>0.000154</unc></pevent>', '<pevent><etype>Picture</etype><ecode>1</ecode><unc>0.000141</unc></pevent>', '<pevent><etype>Picture</etype><ecode>2</ecode><unc>0.000196</unc></pevent>', '<pevent><etype>Picture</etype><ecode>1</ecode><unc>0.000213</unc></pevent>', '<pevent><etype>Picture</etype><ecode>1</ecode><unc>0.000173</unc></pevent>', '<pevent><etype>Picture</etype><ecode>1</ecode><unc>0.000128</unc></pevent>', '<pevent><etype>Picture</etype><ecode>1</ecode><unc>0.000145</unc></pevent>', '<pevent><etype>Picture</etype><ecode>1</ecode><unc>0.000168</unc></pevent>', '<pevent><etype>Picture</etype><ecode>1</ecode><unc>0.000199</unc></pevent>', '<pevent><etype>Picture</etype><ecode>2</ecode><unc>0.000199</unc></pevent>', '<pevent><etype>Picture</etype><ecode>1</ecode><unc>0.028023</unc></pevent>', '<pevent><etype>Picture</etype><ecode>1</ecode><unc>0.000196</unc></pevent>', '<pevent><etype>Picture</etype><ecode>1</ecode><unc>0.000166</unc></pevent>', '<pevent><etype>Picture</etype><ecode>2</ecode><unc>0.000239</unc></pevent>', '<pevent><etype>Picture</etype><ecode>1</ecode><unc>0.000143</unc></pevent>', '<pevent><etype>Picture</etype><ecode>2</ecode><unc>0.000191</unc></pevent>', '<pevent><etype>Picture</etype><ecode>1</ecode><unc>0.000192</unc></pevent>', '<pevent><etype>Picture</etype><ecode>2</ecode><unc>0.000185</unc></pevent>', '<pevent><etype>Picture</etype><ecode>1</ecode><unc>0.000201</unc></pevent>', '<pevent><etype>Picture</etype><ecode>1</ecode><unc>0.000142</unc></pevent>', '<pevent><etype>Picture</etype><ecode>1</ecode><unc>0.000323</unc></pevent>', '<pevent><etype>Picture</etype><ecode>2</ecode><unc>0.000195</unc></pevent>', '<pevent><etype>Picture</etype><ecode>2</ecode><unc>0.000173</unc></pevent>', '<pevent><etype>Picture</etype><ecode>1</ecode><unc>0.000203</unc></pevent>', '<pevent><etype>Picture</etype><ecode>1</ecode><unc>0.000155</unc></pevent>', '<pevent><etype>Picture</etype><ecode>1</ecode><unc>0.000195</unc></pevent>', '<pevent><etype>Picture</etype><ecode>2</ecode><unc>0.000211</unc></pevent>', '<pevent><etype>Picture</etype><ecode>1</ecode><unc>0.000149</unc></pevent>', '<pevent><etype>Picture</etype><ecode>1</ecode><unc>0.000217</unc></pevent>', '<pevent><etype>Picture</etype><ecode>2</ecode><unc>0.000204</unc></pevent>', '<pevent><etype>Picture</etype><ecode>2</ecode><unc>0.000164</unc></pevent>', '<pevent><etype>Picture</etype><ecode>2</ecode><unc>0.000205</unc></pevent>', '<pevent><etype>Picture</etype><ecode>1</ecode><unc>0.000205</unc></pevent>', '<pevent><etype>Picture</etype><ecode>2</ecode><unc>0.000155</unc></pevent>', '<pevent><etype>Picture</etype><ecode>2</ecode><unc>0.000198</unc></pevent>', '<pevent><etype>Picture</etype><ecode>1</ecode><unc>0.000204</unc></pevent>', '<pevent><etype>Picture</etype><ecode>1</ecode><unc>0.000148</unc></pevent>', '<pevent><etype>Picture</etype><ecode>1</ecode><unc>0.000225</unc></pevent>', '<pevent><etype>Picture</etype><ecode>1</ecode><unc>0.000174</unc></pevent>'}\n",
      "First few annotations:\n",
      "  25.697s: <pevent><etype>Picture</etype><ecode>1</ecode><unc>0.000175</unc></pevent>\n",
      "  26.714s: <pevent><etype>Picture</etype><ecode>2</ecode><unc>0.0002</unc></pevent>\n",
      "  27.731s: <pevent><etype>Picture</etype><ecode>1</ecode><unc>0.00017</unc></pevent>\n",
      "  28.747s: <pevent><etype>Picture</etype><ecode>2</ecode><unc>0.000195</unc></pevent>\n",
      "  29.764s: <pevent><etype>Picture</etype><ecode>1</ecode><unc>0.000198</unc></pevent>\n",
      "\n",
      "--- MNE Raw Object Info ---\n",
      "<Info | 8 non-empty values\n",
      " bads: []\n",
      " ch_names: Fp1, Fp2, F3, F4, C3, C4, P3, P4, O1, O2, F7, F8, T7, T8, P7, ...\n",
      " chs: 64 EEG\n",
      " custom_ref_applied: False\n",
      " dig: 67 items (3 Cardinal, 64 EEG)\n",
      " highpass: 0.0 Hz\n",
      " lowpass: 125.0 Hz\n",
      " meas_date: unspecified\n",
      " nchan: 64\n",
      " projs: []\n",
      " sfreq: 250.0 Hz\n",
      ">\n",
      "\n",
      "Montage set to PROX-64-montage.\n",
      "\n",
      "--- Processing Markers Stream ---\n",
      "Added 318 annotations to raw object:\n",
      "Unique markers: {'<pevent><etype>Picture</etype><ecode>1</ecode><unc>0.001336</unc></pevent>', '<pevent><etype>Picture</etype><ecode>1</ecode><unc>0.000251</unc></pevent>', '<pevent><etype>Picture</etype><ecode>2</ecode><unc>0.000197</unc></pevent>', '<pevent><etype>Picture</etype><ecode>1</ecode><unc>0.000147</unc></pevent>', '<pevent><etype>Picture</etype><ecode>2</ecode><unc>0.000193</unc></pevent>', '<pevent><etype>Picture</etype><ecode>2</ecode><unc>0.00022</unc></pevent>', '<pevent><etype>Picture</etype><ecode>1</ecode><unc>0.000208</unc></pevent>', '<pevent><etype>Picture</etype><ecode>2</ecode><unc>0.000254</unc></pevent>', '<pevent><etype>Picture</etype><ecode>2</ecode><unc>0.000186</unc></pevent>', '<pevent><etype>Picture</etype><ecode>1</ecode><unc>0.000212</unc></pevent>', '<pevent><etype>Picture</etype><ecode>1</ecode><unc>0.000171</unc></pevent>', '<pevent><etype>Picture</etype><ecode>2</ecode><unc>0.000149</unc></pevent>', '<pevent><etype>Picture</etype><ecode>1</ecode><unc>0.000175</unc></pevent>', '<pevent><etype>Picture</etype><ecode>1</ecode><unc>0.000169</unc></pevent>', '<pevent><etype>Picture</etype><ecode>1</ecode><unc>0.000157</unc></pevent>', '<pevent><etype>Picture</etype><ecode>2</ecode><unc>0.000207</unc></pevent>', '<pevent><etype>Picture</etype><ecode>2</ecode><unc>0.000166</unc></pevent>', '<pevent><etype>Picture</etype><ecode>1</ecode><unc>0.000179</unc></pevent>', '<pevent><etype>Picture</etype><ecode>2</ecode><unc>0.000232</unc></pevent>', '<pevent><etype>Picture</etype><ecode>1</ecode><unc>0.000146</unc></pevent>', '<pevent><etype>Picture</etype><ecode>1</ecode><unc>0.0002</unc></pevent>', '<pevent><etype>Picture</etype><ecode>1</ecode><unc>0.000183</unc></pevent>', '<pevent><etype>Picture</etype><ecode>2</ecode><unc>0.013798</unc></pevent>', '<pevent><etype>Picture</etype><ecode>1</ecode><unc>0.000198</unc></pevent>', '<pevent><etype>Picture</etype><ecode>1</ecode><unc>0.000238</unc></pevent>', '<pevent><etype>Picture</etype><ecode>1</ecode><unc>0.000177</unc></pevent>', '<pevent><etype>Picture</etype><ecode>2</ecode><unc>0.000146</unc></pevent>', '<pevent><etype>Picture</etype><ecode>1</ecode><unc>0.000172</unc></pevent>', '<pevent><etype>Picture</etype><ecode>2</ecode><unc>0.000159</unc></pevent>', '<pevent><etype>Picture</etype><ecode>2</ecode><unc>0.000252</unc></pevent>', '<pevent><etype>Picture</etype><ecode>2</ecode><unc>0.000174</unc></pevent>', '<pevent><etype>Picture</etype><ecode>2</ecode><unc>0.000145</unc></pevent>', '<pevent><etype>Picture</etype><ecode>1</ecode><unc>0.000151</unc></pevent>', '<pevent><etype>Picture</etype><ecode>2</ecode><unc>0.000152</unc></pevent>', '<pevent><etype>Picture</etype><ecode>1</ecode><unc>0.000189</unc></pevent>', '<pevent><etype>Picture</etype><ecode>2</ecode><unc>0.000141</unc></pevent>', '<pevent><etype>Picture</etype><ecode>1</ecode><unc>0.000194</unc></pevent>', '<pevent><etype>Picture</etype><ecode>1</ecode><unc>0.000156</unc></pevent>', '<pevent><etype>Picture</etype><ecode>1</ecode><unc>0.000237</unc></pevent>', '<pevent><etype>Picture</etype><ecode>2</ecode><unc>0.000194</unc></pevent>', '<pevent><etype>Picture</etype><ecode>1</ecode><unc>0.000243</unc></pevent>', '<pevent><etype>Picture</etype><ecode>2</ecode><unc>0.000153</unc></pevent>', '<pevent><etype>Picture</etype><ecode>1</ecode><unc>0.000153</unc></pevent>', '<pevent><etype>Picture</etype><ecode>2</ecode><unc>0.000178</unc></pevent>', '<pevent><etype>Picture</etype><ecode>1</ecode><unc>0.00015</unc></pevent>', '<pevent><etype>Picture</etype><ecode>2</ecode><unc>0.000228</unc></pevent>', '<pevent><etype>Picture</etype><ecode>2</ecode><unc>0.000147</unc></pevent>', '<pevent><etype>Picture</etype><ecode>2</ecode><unc>0.009384</unc></pevent>', '<pevent><etype>Picture</etype><ecode>2</ecode><unc>0.000181</unc></pevent>', '<pevent><etype>Picture</etype><ecode>2</ecode><unc>0.000167</unc></pevent>', '<pevent><etype>Picture</etype><ecode>2</ecode><unc>0.018401</unc></pevent>', '<pevent><etype>Picture</etype><ecode>2</ecode><unc>0.000162</unc></pevent>', '<pevent><etype>Picture</etype><ecode>2</ecode><unc>0.000189</unc></pevent>', '<pevent><etype>Picture</etype><ecode>1</ecode><unc>0.000428</unc></pevent>', '<pevent><etype>Picture</etype><ecode>2</ecode><unc>0.00021</unc></pevent>', '<pevent><etype>Picture</etype><ecode>2</ecode><unc>0.000151</unc></pevent>', '<pevent><etype>Picture</etype><ecode>2</ecode><unc>0.000144</unc></pevent>', '<pevent><etype>Picture</etype><ecode>2</ecode><unc>0.000148</unc></pevent>', '<pevent><etype>Picture</etype><ecode>2</ecode><unc>0.000242</unc></pevent>', '<pevent><etype>Picture</etype><ecode>2</ecode><unc>0.000208</unc></pevent>', '<pevent><etype>Picture</etype><ecode>1</ecode><unc>0.000154</unc></pevent>', '<pevent><etype>Picture</etype><ecode>1</ecode><unc>0.000209</unc></pevent>', '<pevent><etype>Picture</etype><ecode>2</ecode><unc>0.000206</unc></pevent>', '<pevent><etype>Picture</etype><ecode>1</ecode><unc>0.000197</unc></pevent>', '<pevent><etype>Picture</etype><ecode>1</ecode><unc>0.000252</unc></pevent>', '<pevent><etype>Picture</etype><ecode>1</ecode><unc>0.000288</unc></pevent>', '<pevent><etype>Picture</etype><ecode>2</ecode><unc>0.000192</unc></pevent>', '<pevent><etype>Picture</etype><ecode>1</ecode><unc>0.000211</unc></pevent>', '<pevent><etype>Picture</etype><ecode>2</ecode><unc>0.00017</unc></pevent>', '<pevent><etype>Picture</etype><ecode>2</ecode><unc>0.000168</unc></pevent>', '<pevent><etype>Picture</etype><ecode>2</ecode><unc>0.000247</unc></pevent>', '<pevent><etype>Picture</etype><ecode>2</ecode><unc>0.000177</unc></pevent>', '<pevent><etype>Picture</etype><ecode>1</ecode><unc>0.000164</unc></pevent>', '<pevent><etype>Picture</etype><ecode>2</ecode><unc>0.000219</unc></pevent>', '<pevent><etype>Picture</etype><ecode>2</ecode><unc>0.000209</unc></pevent>', '<pevent><etype>Picture</etype><ecode>2</ecode><unc>0.000157</unc></pevent>', '<pevent><etype>Picture</etype><ecode>2</ecode><unc>0.0002</unc></pevent>', '<pevent><etype>Picture</etype><ecode>2</ecode><unc>0.000169</unc></pevent>', '<pevent><etype>Picture</etype><ecode>1</ecode><unc>0.00019</unc></pevent>', '<pevent><etype>Picture</etype><ecode>1</ecode><unc>0.000167</unc></pevent>', '<pevent><etype>Picture</etype><ecode>2</ecode><unc>0.000202</unc></pevent>', '<pevent><etype>Picture</etype><ecode>2</ecode><unc>0.00015</unc></pevent>', '<pevent><etype>Picture</etype><ecode>1</ecode><unc>0.000899</unc></pevent>', '<pevent><etype>Picture</etype><ecode>2</ecode><unc>0.000326</unc></pevent>', '<pevent><etype>Picture</etype><ecode>2</ecode><unc>0.00019</unc></pevent>', '<pevent><etype>Picture</etype><ecode>2</ecode><unc>0.000172</unc></pevent>', '<pevent><etype>Picture</etype><ecode>1</ecode><unc>0.000139</unc></pevent>', '<pevent><etype>Picture</etype><ecode>1</ecode><unc>0.00017</unc></pevent>', '<pevent><etype>Picture</etype><ecode>1</ecode><unc>0.000176</unc></pevent>', '<pevent><etype>Picture</etype><ecode>1</ecode><unc>0.000158</unc></pevent>', '<pevent><etype>Picture</etype><ecode>1</ecode><unc>0.000152</unc></pevent>', '<pevent><etype>Picture</etype><ecode>1</ecode><unc>0.000202</unc></pevent>', '<pevent><etype>Picture</etype><ecode>2</ecode><unc>0.000171</unc></pevent>', '<pevent><etype>Picture</etype><ecode>2</ecode><unc>0.000165</unc></pevent>', '<pevent><etype>Picture</etype><ecode>2</ecode><unc>0.000154</unc></pevent>', '<pevent><etype>Picture</etype><ecode>1</ecode><unc>0.000141</unc></pevent>', '<pevent><etype>Picture</etype><ecode>2</ecode><unc>0.000196</unc></pevent>', '<pevent><etype>Picture</etype><ecode>1</ecode><unc>0.000213</unc></pevent>', '<pevent><etype>Picture</etype><ecode>1</ecode><unc>0.000173</unc></pevent>', '<pevent><etype>Picture</etype><ecode>1</ecode><unc>0.000128</unc></pevent>', '<pevent><etype>Picture</etype><ecode>1</ecode><unc>0.000145</unc></pevent>', '<pevent><etype>Picture</etype><ecode>1</ecode><unc>0.000168</unc></pevent>', '<pevent><etype>Picture</etype><ecode>1</ecode><unc>0.000199</unc></pevent>', '<pevent><etype>Picture</etype><ecode>2</ecode><unc>0.000199</unc></pevent>', '<pevent><etype>Picture</etype><ecode>1</ecode><unc>0.028023</unc></pevent>', '<pevent><etype>Picture</etype><ecode>1</ecode><unc>0.000196</unc></pevent>', '<pevent><etype>Picture</etype><ecode>1</ecode><unc>0.000166</unc></pevent>', '<pevent><etype>Picture</etype><ecode>2</ecode><unc>0.000239</unc></pevent>', '<pevent><etype>Picture</etype><ecode>1</ecode><unc>0.000143</unc></pevent>', '<pevent><etype>Picture</etype><ecode>2</ecode><unc>0.000191</unc></pevent>', '<pevent><etype>Picture</etype><ecode>1</ecode><unc>0.000192</unc></pevent>', '<pevent><etype>Picture</etype><ecode>2</ecode><unc>0.000185</unc></pevent>', '<pevent><etype>Picture</etype><ecode>1</ecode><unc>0.000201</unc></pevent>', '<pevent><etype>Picture</etype><ecode>1</ecode><unc>0.000142</unc></pevent>', '<pevent><etype>Picture</etype><ecode>1</ecode><unc>0.000323</unc></pevent>', '<pevent><etype>Picture</etype><ecode>2</ecode><unc>0.000195</unc></pevent>', '<pevent><etype>Picture</etype><ecode>2</ecode><unc>0.000173</unc></pevent>', '<pevent><etype>Picture</etype><ecode>1</ecode><unc>0.000203</unc></pevent>', '<pevent><etype>Picture</etype><ecode>1</ecode><unc>0.000155</unc></pevent>', '<pevent><etype>Picture</etype><ecode>1</ecode><unc>0.000195</unc></pevent>', '<pevent><etype>Picture</etype><ecode>2</ecode><unc>0.000211</unc></pevent>', '<pevent><etype>Picture</etype><ecode>1</ecode><unc>0.000149</unc></pevent>', '<pevent><etype>Picture</etype><ecode>1</ecode><unc>0.000217</unc></pevent>', '<pevent><etype>Picture</etype><ecode>2</ecode><unc>0.000204</unc></pevent>', '<pevent><etype>Picture</etype><ecode>2</ecode><unc>0.000164</unc></pevent>', '<pevent><etype>Picture</etype><ecode>2</ecode><unc>0.000205</unc></pevent>', '<pevent><etype>Picture</etype><ecode>1</ecode><unc>0.000205</unc></pevent>', '<pevent><etype>Picture</etype><ecode>2</ecode><unc>0.000155</unc></pevent>', '<pevent><etype>Picture</etype><ecode>2</ecode><unc>0.000198</unc></pevent>', '<pevent><etype>Picture</etype><ecode>1</ecode><unc>0.000204</unc></pevent>', '<pevent><etype>Picture</etype><ecode>1</ecode><unc>0.000148</unc></pevent>', '<pevent><etype>Picture</etype><ecode>1</ecode><unc>0.000225</unc></pevent>', '<pevent><etype>Picture</etype><ecode>1</ecode><unc>0.000174</unc></pevent>'}\n",
      "First few annotations:\n",
      "  25.697s: <pevent><etype>Picture</etype><ecode>1</ecode><unc>0.000175</unc></pevent>\n",
      "  26.714s: <pevent><etype>Picture</etype><ecode>2</ecode><unc>0.0002</unc></pevent>\n",
      "  27.731s: <pevent><etype>Picture</etype><ecode>1</ecode><unc>0.00017</unc></pevent>\n",
      "  28.747s: <pevent><etype>Picture</etype><ecode>2</ecode><unc>0.000195</unc></pevent>\n",
      "  29.764s: <pevent><etype>Picture</etype><ecode>1</ecode><unc>0.000198</unc></pevent>\n",
      "\n",
      "--- MNE Raw Object Info ---\n",
      "<Info | 8 non-empty values\n",
      " bads: []\n",
      " ch_names: Fp1, Fp2, F3, F4, C3, C4, P3, P4, O1, O2, F7, F8, T7, T8, P7, ...\n",
      " chs: 64 EEG\n",
      " custom_ref_applied: False\n",
      " dig: 67 items (3 Cardinal, 64 EEG)\n",
      " highpass: 0.0 Hz\n",
      " lowpass: 125.0 Hz\n",
      " meas_date: unspecified\n",
      " nchan: 64\n",
      " projs: []\n",
      " sfreq: 250.0 Hz\n",
      ">\n"
     ]
    },
    {
     "name": "stderr",
     "output_type": "stream",
     "text": [
      "c:\\Users\\valtt\\anaconda3\\envs\\mne\\Lib\\site-packages\\mne_qt_browser\\_pg_figure.py:4903: RuntimeWarning: Precision loss occurred in moment calculation due to catastrophic cancellation. This occurs when the data are nearly identical. Results may be unreliable.\n",
      "  z = zscore(data, axis=1)\n"
     ]
    },
    {
     "name": "stdout",
     "output_type": "stream",
     "text": [
      "Channels marked as bad:\n",
      "none\n"
     ]
    }
   ],
   "source": [
    "# Create MNE Raw object from the EEG stream\n",
    "if eeg_stream:\n",
    "    eeg_data = eeg_stream['time_series'].T  # Transpose to shape (n_channels, n_times)\n",
    "    eeg_timestamps = eeg_stream['time_stamps']\n",
    "    \n",
    "    # Create MNE Info object\n",
    "    info = mne.create_info(ch_names=ch_names, sfreq=sfreq, ch_types='eeg')\n",
    "    \n",
    "    # Create Raw object\n",
    "    raw = mne.io.RawArray(eeg_data, info)\n",
    "    \n",
    "    # Set EEG montage to PROX-64-montage in the root directory\n",
    "    montage_path = op.join(project_root, 'utility', 'PROX-64-montage-dig.fif')\n",
    "    if op.exists(montage_path):\n",
    "        montage = mne.channels.read_dig_fif(montage_path)\n",
    "        raw.set_montage(montage)\n",
    "        print(\"\\nMontage set to PROX-64-montage.\")\n",
    "    else:\n",
    "        print(f\"\\nMontage file not found at {montage_path}. Please check the path.\")\n",
    "    \n",
    "    # Parse markers stream and add as annotations\n",
    "    if markers_stream:\n",
    "        print(\"\\n--- Processing Markers Stream ---\")\n",
    "        marker_data = markers_stream['time_series']\n",
    "        marker_timestamps = markers_stream['time_stamps']\n",
    "        \n",
    "        # Convert markers to annotations\n",
    "        annotations_onset = []\n",
    "        annotations_duration = []\n",
    "        annotations_description = []\n",
    "        \n",
    "        # Get the first EEG timestamp to calculate relative timing\n",
    "        eeg_start_time = eeg_timestamps[0]\n",
    "        \n",
    "        for i, (marker_time, marker_value) in enumerate(zip(marker_timestamps, marker_data)):\n",
    "            # Calculate onset relative to EEG start time\n",
    "            onset = marker_time - eeg_start_time\n",
    "            \n",
    "            # Extract marker description (handle both string and list formats)\n",
    "            if isinstance(marker_value, (list, np.ndarray)) and len(marker_value) > 0:\n",
    "                description = str(marker_value[0])\n",
    "            else:\n",
    "                description = str(marker_value)\n",
    "            \n",
    "            annotations_onset.append(onset)\n",
    "            annotations_duration.append(0.0)  # Point events have 0 duration\n",
    "            annotations_description.append(description)\n",
    "        \n",
    "        # Create MNE Annotations object\n",
    "        annotations = mne.Annotations(onset=annotations_onset,\n",
    "                                     duration=annotations_duration,\n",
    "                                     description=annotations_description)\n",
    "        \n",
    "        # Add annotations to raw object\n",
    "        raw.set_annotations(annotations)\n",
    "        \n",
    "        print(f\"Added {len(annotations)} annotations to raw object:\")\n",
    "        print(f\"Unique markers: {set(annotations_description)}\")\n",
    "        print(f\"First few annotations:\")\n",
    "        for i in range(min(5, len(annotations))):\n",
    "            print(f\"  {annotations.onset[i]:.3f}s: {annotations.description[i]}\")\n",
    "    else:\n",
    "        print(\"\\nNo markers stream found - no annotations added.\")\n",
    "        \n",
    "    \n",
    "    print(\"\\n--- MNE Raw Object Info ---\")\n",
    "    print(raw.info)\n",
    "    \n",
    "    # Plot raw data for visual inspection\n",
    "    raw.plot(n_channels=min(20, n_chans), duration=30, scalings='auto', title='Raw EEG Data', show=True, block=True)\n",
    "    plt.show()"
   ]
  },
  {
   "cell_type": "code",
   "execution_count": 6,
   "id": "2dba126f",
   "metadata": {},
   "outputs": [
    {
     "name": "stdout",
     "output_type": "stream",
     "text": [
      "Writing 'c:\\MoBI\\data\\BIDS\\participants.tsv'...\n",
      "Writing 'c:\\MoBI\\data\\BIDS\\participants.json'...\n",
      "Writing 'c:/MoBI/data/BIDS/sub-P01/ses-01/eeg/sub-P01_ses-01_space-CapTrak_electrodes.tsv'...\n",
      "Writing 'c:/MoBI/data/BIDS/sub-P01/ses-01/eeg/sub-P01_ses-01_space-CapTrak_coordsystem.json'...\n",
      "The provided raw data contains annotations, but you did not pass an \"event_id\" mapping from annotation descriptions to event codes. We will generate arbitrary event codes. To specify custom event codes, please pass \"event_id\".\n",
      "Used Annotations descriptions: [np.str_('<pevent><etype>Picture</etype><ecode>1</ecode><unc>0.000128</unc></pevent>'), np.str_('<pevent><etype>Picture</etype><ecode>1</ecode><unc>0.000139</unc></pevent>'), np.str_('<pevent><etype>Picture</etype><ecode>1</ecode><unc>0.000141</unc></pevent>'), np.str_('<pevent><etype>Picture</etype><ecode>1</ecode><unc>0.000142</unc></pevent>'), np.str_('<pevent><etype>Picture</etype><ecode>1</ecode><unc>0.000143</unc></pevent>'), np.str_('<pevent><etype>Picture</etype><ecode>1</ecode><unc>0.000145</unc></pevent>'), np.str_('<pevent><etype>Picture</etype><ecode>1</ecode><unc>0.000146</unc></pevent>'), np.str_('<pevent><etype>Picture</etype><ecode>1</ecode><unc>0.000147</unc></pevent>'), np.str_('<pevent><etype>Picture</etype><ecode>1</ecode><unc>0.000148</unc></pevent>'), np.str_('<pevent><etype>Picture</etype><ecode>1</ecode><unc>0.000149</unc></pevent>'), np.str_('<pevent><etype>Picture</etype><ecode>1</ecode><unc>0.000151</unc></pevent>'), np.str_('<pevent><etype>Picture</etype><ecode>1</ecode><unc>0.000152</unc></pevent>'), np.str_('<pevent><etype>Picture</etype><ecode>1</ecode><unc>0.000153</unc></pevent>'), np.str_('<pevent><etype>Picture</etype><ecode>1</ecode><unc>0.000154</unc></pevent>'), np.str_('<pevent><etype>Picture</etype><ecode>1</ecode><unc>0.000155</unc></pevent>'), np.str_('<pevent><etype>Picture</etype><ecode>1</ecode><unc>0.000156</unc></pevent>'), np.str_('<pevent><etype>Picture</etype><ecode>1</ecode><unc>0.000157</unc></pevent>'), np.str_('<pevent><etype>Picture</etype><ecode>1</ecode><unc>0.000158</unc></pevent>'), np.str_('<pevent><etype>Picture</etype><ecode>1</ecode><unc>0.00015</unc></pevent>'), np.str_('<pevent><etype>Picture</etype><ecode>1</ecode><unc>0.000164</unc></pevent>'), np.str_('<pevent><etype>Picture</etype><ecode>1</ecode><unc>0.000166</unc></pevent>'), np.str_('<pevent><etype>Picture</etype><ecode>1</ecode><unc>0.000167</unc></pevent>'), np.str_('<pevent><etype>Picture</etype><ecode>1</ecode><unc>0.000168</unc></pevent>'), np.str_('<pevent><etype>Picture</etype><ecode>1</ecode><unc>0.000169</unc></pevent>'), np.str_('<pevent><etype>Picture</etype><ecode>1</ecode><unc>0.000171</unc></pevent>'), np.str_('<pevent><etype>Picture</etype><ecode>1</ecode><unc>0.000172</unc></pevent>'), np.str_('<pevent><etype>Picture</etype><ecode>1</ecode><unc>0.000173</unc></pevent>'), np.str_('<pevent><etype>Picture</etype><ecode>1</ecode><unc>0.000174</unc></pevent>'), np.str_('<pevent><etype>Picture</etype><ecode>1</ecode><unc>0.000175</unc></pevent>'), np.str_('<pevent><etype>Picture</etype><ecode>1</ecode><unc>0.000176</unc></pevent>'), np.str_('<pevent><etype>Picture</etype><ecode>1</ecode><unc>0.000177</unc></pevent>'), np.str_('<pevent><etype>Picture</etype><ecode>1</ecode><unc>0.000179</unc></pevent>'), np.str_('<pevent><etype>Picture</etype><ecode>1</ecode><unc>0.00017</unc></pevent>'), np.str_('<pevent><etype>Picture</etype><ecode>1</ecode><unc>0.000183</unc></pevent>'), np.str_('<pevent><etype>Picture</etype><ecode>1</ecode><unc>0.000189</unc></pevent>'), np.str_('<pevent><etype>Picture</etype><ecode>1</ecode><unc>0.000192</unc></pevent>'), np.str_('<pevent><etype>Picture</etype><ecode>1</ecode><unc>0.000194</unc></pevent>'), np.str_('<pevent><etype>Picture</etype><ecode>1</ecode><unc>0.000195</unc></pevent>'), np.str_('<pevent><etype>Picture</etype><ecode>1</ecode><unc>0.000196</unc></pevent>'), np.str_('<pevent><etype>Picture</etype><ecode>1</ecode><unc>0.000197</unc></pevent>'), np.str_('<pevent><etype>Picture</etype><ecode>1</ecode><unc>0.000198</unc></pevent>'), np.str_('<pevent><etype>Picture</etype><ecode>1</ecode><unc>0.000199</unc></pevent>'), np.str_('<pevent><etype>Picture</etype><ecode>1</ecode><unc>0.00019</unc></pevent>'), np.str_('<pevent><etype>Picture</etype><ecode>1</ecode><unc>0.000201</unc></pevent>'), np.str_('<pevent><etype>Picture</etype><ecode>1</ecode><unc>0.000202</unc></pevent>'), np.str_('<pevent><etype>Picture</etype><ecode>1</ecode><unc>0.000203</unc></pevent>'), np.str_('<pevent><etype>Picture</etype><ecode>1</ecode><unc>0.000204</unc></pevent>'), np.str_('<pevent><etype>Picture</etype><ecode>1</ecode><unc>0.000205</unc></pevent>'), np.str_('<pevent><etype>Picture</etype><ecode>1</ecode><unc>0.000208</unc></pevent>'), np.str_('<pevent><etype>Picture</etype><ecode>1</ecode><unc>0.000209</unc></pevent>'), np.str_('<pevent><etype>Picture</etype><ecode>1</ecode><unc>0.000211</unc></pevent>'), np.str_('<pevent><etype>Picture</etype><ecode>1</ecode><unc>0.000212</unc></pevent>'), np.str_('<pevent><etype>Picture</etype><ecode>1</ecode><unc>0.000213</unc></pevent>'), np.str_('<pevent><etype>Picture</etype><ecode>1</ecode><unc>0.000217</unc></pevent>'), np.str_('<pevent><etype>Picture</etype><ecode>1</ecode><unc>0.000225</unc></pevent>'), np.str_('<pevent><etype>Picture</etype><ecode>1</ecode><unc>0.000237</unc></pevent>'), np.str_('<pevent><etype>Picture</etype><ecode>1</ecode><unc>0.000238</unc></pevent>'), np.str_('<pevent><etype>Picture</etype><ecode>1</ecode><unc>0.000243</unc></pevent>'), np.str_('<pevent><etype>Picture</etype><ecode>1</ecode><unc>0.000251</unc></pevent>'), np.str_('<pevent><etype>Picture</etype><ecode>1</ecode><unc>0.000252</unc></pevent>'), np.str_('<pevent><etype>Picture</etype><ecode>1</ecode><unc>0.000288</unc></pevent>'), np.str_('<pevent><etype>Picture</etype><ecode>1</ecode><unc>0.0002</unc></pevent>'), np.str_('<pevent><etype>Picture</etype><ecode>1</ecode><unc>0.000323</unc></pevent>'), np.str_('<pevent><etype>Picture</etype><ecode>1</ecode><unc>0.000428</unc></pevent>'), np.str_('<pevent><etype>Picture</etype><ecode>1</ecode><unc>0.000899</unc></pevent>'), np.str_('<pevent><etype>Picture</etype><ecode>1</ecode><unc>0.001336</unc></pevent>'), np.str_('<pevent><etype>Picture</etype><ecode>1</ecode><unc>0.028023</unc></pevent>'), np.str_('<pevent><etype>Picture</etype><ecode>2</ecode><unc>0.000141</unc></pevent>'), np.str_('<pevent><etype>Picture</etype><ecode>2</ecode><unc>0.000144</unc></pevent>'), np.str_('<pevent><etype>Picture</etype><ecode>2</ecode><unc>0.000145</unc></pevent>'), np.str_('<pevent><etype>Picture</etype><ecode>2</ecode><unc>0.000146</unc></pevent>'), np.str_('<pevent><etype>Picture</etype><ecode>2</ecode><unc>0.000147</unc></pevent>'), np.str_('<pevent><etype>Picture</etype><ecode>2</ecode><unc>0.000148</unc></pevent>'), np.str_('<pevent><etype>Picture</etype><ecode>2</ecode><unc>0.000149</unc></pevent>'), np.str_('<pevent><etype>Picture</etype><ecode>2</ecode><unc>0.000151</unc></pevent>'), np.str_('<pevent><etype>Picture</etype><ecode>2</ecode><unc>0.000152</unc></pevent>'), np.str_('<pevent><etype>Picture</etype><ecode>2</ecode><unc>0.000153</unc></pevent>'), np.str_('<pevent><etype>Picture</etype><ecode>2</ecode><unc>0.000154</unc></pevent>'), np.str_('<pevent><etype>Picture</etype><ecode>2</ecode><unc>0.000155</unc></pevent>'), np.str_('<pevent><etype>Picture</etype><ecode>2</ecode><unc>0.000157</unc></pevent>'), np.str_('<pevent><etype>Picture</etype><ecode>2</ecode><unc>0.000159</unc></pevent>'), np.str_('<pevent><etype>Picture</etype><ecode>2</ecode><unc>0.00015</unc></pevent>'), np.str_('<pevent><etype>Picture</etype><ecode>2</ecode><unc>0.000162</unc></pevent>'), np.str_('<pevent><etype>Picture</etype><ecode>2</ecode><unc>0.000164</unc></pevent>'), np.str_('<pevent><etype>Picture</etype><ecode>2</ecode><unc>0.000165</unc></pevent>'), np.str_('<pevent><etype>Picture</etype><ecode>2</ecode><unc>0.000166</unc></pevent>'), np.str_('<pevent><etype>Picture</etype><ecode>2</ecode><unc>0.000167</unc></pevent>'), np.str_('<pevent><etype>Picture</etype><ecode>2</ecode><unc>0.000168</unc></pevent>'), np.str_('<pevent><etype>Picture</etype><ecode>2</ecode><unc>0.000169</unc></pevent>'), np.str_('<pevent><etype>Picture</etype><ecode>2</ecode><unc>0.000171</unc></pevent>'), np.str_('<pevent><etype>Picture</etype><ecode>2</ecode><unc>0.000172</unc></pevent>'), np.str_('<pevent><etype>Picture</etype><ecode>2</ecode><unc>0.000173</unc></pevent>'), np.str_('<pevent><etype>Picture</etype><ecode>2</ecode><unc>0.000174</unc></pevent>'), np.str_('<pevent><etype>Picture</etype><ecode>2</ecode><unc>0.000177</unc></pevent>'), np.str_('<pevent><etype>Picture</etype><ecode>2</ecode><unc>0.000178</unc></pevent>'), np.str_('<pevent><etype>Picture</etype><ecode>2</ecode><unc>0.00017</unc></pevent>'), np.str_('<pevent><etype>Picture</etype><ecode>2</ecode><unc>0.000181</unc></pevent>'), np.str_('<pevent><etype>Picture</etype><ecode>2</ecode><unc>0.000185</unc></pevent>'), np.str_('<pevent><etype>Picture</etype><ecode>2</ecode><unc>0.000186</unc></pevent>'), np.str_('<pevent><etype>Picture</etype><ecode>2</ecode><unc>0.000189</unc></pevent>'), np.str_('<pevent><etype>Picture</etype><ecode>2</ecode><unc>0.000191</unc></pevent>'), np.str_('<pevent><etype>Picture</etype><ecode>2</ecode><unc>0.000192</unc></pevent>'), np.str_('<pevent><etype>Picture</etype><ecode>2</ecode><unc>0.000193</unc></pevent>'), np.str_('<pevent><etype>Picture</etype><ecode>2</ecode><unc>0.000194</unc></pevent>'), np.str_('<pevent><etype>Picture</etype><ecode>2</ecode><unc>0.000195</unc></pevent>'), np.str_('<pevent><etype>Picture</etype><ecode>2</ecode><unc>0.000196</unc></pevent>'), np.str_('<pevent><etype>Picture</etype><ecode>2</ecode><unc>0.000197</unc></pevent>'), np.str_('<pevent><etype>Picture</etype><ecode>2</ecode><unc>0.000198</unc></pevent>'), np.str_('<pevent><etype>Picture</etype><ecode>2</ecode><unc>0.000199</unc></pevent>'), np.str_('<pevent><etype>Picture</etype><ecode>2</ecode><unc>0.00019</unc></pevent>'), np.str_('<pevent><etype>Picture</etype><ecode>2</ecode><unc>0.000202</unc></pevent>'), np.str_('<pevent><etype>Picture</etype><ecode>2</ecode><unc>0.000204</unc></pevent>'), np.str_('<pevent><etype>Picture</etype><ecode>2</ecode><unc>0.000205</unc></pevent>'), np.str_('<pevent><etype>Picture</etype><ecode>2</ecode><unc>0.000206</unc></pevent>'), np.str_('<pevent><etype>Picture</etype><ecode>2</ecode><unc>0.000207</unc></pevent>'), np.str_('<pevent><etype>Picture</etype><ecode>2</ecode><unc>0.000208</unc></pevent>'), np.str_('<pevent><etype>Picture</etype><ecode>2</ecode><unc>0.000209</unc></pevent>'), np.str_('<pevent><etype>Picture</etype><ecode>2</ecode><unc>0.000211</unc></pevent>'), np.str_('<pevent><etype>Picture</etype><ecode>2</ecode><unc>0.000219</unc></pevent>'), np.str_('<pevent><etype>Picture</etype><ecode>2</ecode><unc>0.00021</unc></pevent>'), np.str_('<pevent><etype>Picture</etype><ecode>2</ecode><unc>0.000228</unc></pevent>'), np.str_('<pevent><etype>Picture</etype><ecode>2</ecode><unc>0.00022</unc></pevent>'), np.str_('<pevent><etype>Picture</etype><ecode>2</ecode><unc>0.000232</unc></pevent>'), np.str_('<pevent><etype>Picture</etype><ecode>2</ecode><unc>0.000239</unc></pevent>'), np.str_('<pevent><etype>Picture</etype><ecode>2</ecode><unc>0.000242</unc></pevent>'), np.str_('<pevent><etype>Picture</etype><ecode>2</ecode><unc>0.000247</unc></pevent>'), np.str_('<pevent><etype>Picture</etype><ecode>2</ecode><unc>0.000252</unc></pevent>'), np.str_('<pevent><etype>Picture</etype><ecode>2</ecode><unc>0.000254</unc></pevent>'), np.str_('<pevent><etype>Picture</etype><ecode>2</ecode><unc>0.0002</unc></pevent>'), np.str_('<pevent><etype>Picture</etype><ecode>2</ecode><unc>0.000326</unc></pevent>'), np.str_('<pevent><etype>Picture</etype><ecode>2</ecode><unc>0.009384</unc></pevent>'), np.str_('<pevent><etype>Picture</etype><ecode>2</ecode><unc>0.013798</unc></pevent>'), np.str_('<pevent><etype>Picture</etype><ecode>2</ecode><unc>0.018401</unc></pevent>')]\n",
      "Writing 'c:\\MoBI\\data\\BIDS\\sub-P01\\ses-01\\eeg\\sub-P01_ses-01_task-NaturalWalk_events.tsv'...\n",
      "Writing 'c:\\MoBI\\data\\BIDS\\sub-P01\\ses-01\\eeg\\sub-P01_ses-01_task-NaturalWalk_events.json'...\n",
      "Writing 'c:\\MoBI\\data\\BIDS\\dataset_description.json'...\n",
      "Writing 'c:\\MoBI\\data\\BIDS\\sub-P01\\ses-01\\eeg\\sub-P01_ses-01_task-NaturalWalk_eeg.json'...\n",
      "Found no extension for raw file, assuming \"BTi\" format and appending extension .pdf\n",
      "Writing 'c:\\MoBI\\data\\BIDS\\sub-P01\\ses-01\\eeg\\sub-P01_ses-01_task-NaturalWalk_channels.tsv'...\n",
      "Copying data files to sub-P01_ses-01_task-NaturalWalk_eeg.vhdr\n"
     ]
    },
    {
     "name": "stderr",
     "output_type": "stream",
     "text": [
      "C:\\Users\\valtt\\AppData\\Local\\Temp\\ipykernel_9632\\1780568577.py:4: RuntimeWarning: Converting data files to BrainVision format\n",
      "  write_raw_bids(raw, bids_path, overwrite=True, allow_preload=True, format='BrainVision')\n",
      "C:\\Users\\valtt\\AppData\\Local\\Temp\\ipykernel_9632\\1780568577.py:4: RuntimeWarning: Encountered data in \"double\" format. Converting to float32.\n",
      "  write_raw_bids(raw, bids_path, overwrite=True, allow_preload=True, format='BrainVision')\n"
     ]
    },
    {
     "name": "stdout",
     "output_type": "stream",
     "text": [
      "Writing 'c:\\MoBI\\data\\BIDS\\sub-P01\\ses-01\\sub-P01_ses-01_scans.tsv'...\n",
      "Wrote c:\\MoBI\\data\\BIDS\\sub-P01\\ses-01\\sub-P01_ses-01_scans.tsv entry with eeg\\sub-P01_ses-01_task-NaturalWalk_eeg.vhdr.\n"
     ]
    },
    {
     "data": {
      "text/plain": [
       "BIDSPath(\n",
       "root: c:/MoBI/data/BIDS\n",
       "datatype: eeg\n",
       "basename: sub-P01_ses-01_task-NaturalWalk_eeg.vhdr)"
      ]
     },
     "execution_count": 6,
     "metadata": {},
     "output_type": "execute_result"
    }
   ],
   "source": [
    "# Now we use MNE BIDS to convert the Raw object to BIDS format\n",
    "bids_root = op.join(project_root, 'data', 'BIDS')\n",
    "bids_path = BIDSPath(subject='P01', session='01', task='NaturalWalk', datatype='eeg', root=bids_root, )\n",
    "write_raw_bids(raw, bids_path, overwrite=True, allow_preload=True, format='BrainVision')"
   ]
  }
 ],
 "metadata": {
  "kernelspec": {
   "display_name": "mne",
   "language": "python",
   "name": "python3"
  },
  "language_info": {
   "codemirror_mode": {
    "name": "ipython",
    "version": 3
   },
   "file_extension": ".py",
   "mimetype": "text/x-python",
   "name": "python",
   "nbconvert_exporter": "python",
   "pygments_lexer": "ipython3",
   "version": "3.13.7"
  }
 },
 "nbformat": 4,
 "nbformat_minor": 5
}
